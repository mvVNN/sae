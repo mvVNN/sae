{
 "cells": [
  {
   "cell_type": "code",
   "execution_count": 2,
   "id": "102922e1-c22f-41f5-b5e7-6f3811e304f7",
   "metadata": {},
   "outputs": [],
   "source": [
    "# Importation des modules utilisés\n",
    "import sqlite3\n",
    "import pandas"
   ]
  },
  {
   "cell_type": "code",
   "execution_count": 4,
   "id": "811d64a0-4b4c-4489-ad54-16af4cdef7f9",
   "metadata": {},
   "outputs": [],
   "source": [
    "# Création de la connexion\n",
    "conn = sqlite3.connect(\"ClassicModel.sqlite\")"
   ]
  },
  {
   "cell_type": "code",
   "execution_count": 8,
   "id": "4b0ef329-e56f-45e0-a7aa-e37d32cc9ece",
   "metadata": {},
   "outputs": [
    {
     "ename": "DatabaseError",
     "evalue": "Execution failed on sql 'SELECT * FROM Customers;': no such table: Customers",
     "output_type": "error",
     "traceback": [
      "\u001b[1;31m---------------------------------------------------------------------------\u001b[0m",
      "\u001b[1;31mOperationalError\u001b[0m                          Traceback (most recent call last)",
      "File \u001b[1;32m~\\anaconda3\\Lib\\site-packages\\pandas\\io\\sql.py:2674\u001b[0m, in \u001b[0;36mSQLiteDatabase.execute\u001b[1;34m(self, sql, params)\u001b[0m\n\u001b[0;32m   2673\u001b[0m \u001b[38;5;28;01mtry\u001b[39;00m:\n\u001b[1;32m-> 2674\u001b[0m     cur\u001b[38;5;241m.\u001b[39mexecute(sql, \u001b[38;5;241m*\u001b[39margs)\n\u001b[0;32m   2675\u001b[0m     \u001b[38;5;28;01mreturn\u001b[39;00m cur\n",
      "\u001b[1;31mOperationalError\u001b[0m: no such table: Customers",
      "\nThe above exception was the direct cause of the following exception:\n",
      "\u001b[1;31mDatabaseError\u001b[0m                             Traceback (most recent call last)",
      "Cell \u001b[1;32mIn[8], line 2\u001b[0m\n\u001b[0;32m      1\u001b[0m \u001b[38;5;66;03m# Récupération du contenu de Customers avec une requête SQL\u001b[39;00m\n\u001b[1;32m----> 2\u001b[0m customers \u001b[38;5;241m=\u001b[39m pandas\u001b[38;5;241m.\u001b[39mread_sql_query(\u001b[38;5;124m\"\u001b[39m\u001b[38;5;124mSELECT * FROM Customers;\u001b[39m\u001b[38;5;124m\"\u001b[39m, conn)\n\u001b[0;32m      3\u001b[0m \u001b[38;5;28mprint\u001b[39m(customers)\n",
      "File \u001b[1;32m~\\anaconda3\\Lib\\site-packages\\pandas\\io\\sql.py:526\u001b[0m, in \u001b[0;36mread_sql_query\u001b[1;34m(sql, con, index_col, coerce_float, params, parse_dates, chunksize, dtype, dtype_backend)\u001b[0m\n\u001b[0;32m    523\u001b[0m \u001b[38;5;28;01massert\u001b[39;00m dtype_backend \u001b[38;5;129;01mis\u001b[39;00m \u001b[38;5;129;01mnot\u001b[39;00m lib\u001b[38;5;241m.\u001b[39mno_default\n\u001b[0;32m    525\u001b[0m \u001b[38;5;28;01mwith\u001b[39;00m pandasSQL_builder(con) \u001b[38;5;28;01mas\u001b[39;00m pandas_sql:\n\u001b[1;32m--> 526\u001b[0m     \u001b[38;5;28;01mreturn\u001b[39;00m pandas_sql\u001b[38;5;241m.\u001b[39mread_query(\n\u001b[0;32m    527\u001b[0m         sql,\n\u001b[0;32m    528\u001b[0m         index_col\u001b[38;5;241m=\u001b[39mindex_col,\n\u001b[0;32m    529\u001b[0m         params\u001b[38;5;241m=\u001b[39mparams,\n\u001b[0;32m    530\u001b[0m         coerce_float\u001b[38;5;241m=\u001b[39mcoerce_float,\n\u001b[0;32m    531\u001b[0m         parse_dates\u001b[38;5;241m=\u001b[39mparse_dates,\n\u001b[0;32m    532\u001b[0m         chunksize\u001b[38;5;241m=\u001b[39mchunksize,\n\u001b[0;32m    533\u001b[0m         dtype\u001b[38;5;241m=\u001b[39mdtype,\n\u001b[0;32m    534\u001b[0m         dtype_backend\u001b[38;5;241m=\u001b[39mdtype_backend,\n\u001b[0;32m    535\u001b[0m     )\n",
      "File \u001b[1;32m~\\anaconda3\\Lib\\site-packages\\pandas\\io\\sql.py:2738\u001b[0m, in \u001b[0;36mSQLiteDatabase.read_query\u001b[1;34m(self, sql, index_col, coerce_float, parse_dates, params, chunksize, dtype, dtype_backend)\u001b[0m\n\u001b[0;32m   2727\u001b[0m \u001b[38;5;28;01mdef\u001b[39;00m \u001b[38;5;21mread_query\u001b[39m(\n\u001b[0;32m   2728\u001b[0m     \u001b[38;5;28mself\u001b[39m,\n\u001b[0;32m   2729\u001b[0m     sql,\n\u001b[1;32m   (...)\u001b[0m\n\u001b[0;32m   2736\u001b[0m     dtype_backend: DtypeBackend \u001b[38;5;241m|\u001b[39m Literal[\u001b[38;5;124m\"\u001b[39m\u001b[38;5;124mnumpy\u001b[39m\u001b[38;5;124m\"\u001b[39m] \u001b[38;5;241m=\u001b[39m \u001b[38;5;124m\"\u001b[39m\u001b[38;5;124mnumpy\u001b[39m\u001b[38;5;124m\"\u001b[39m,\n\u001b[0;32m   2737\u001b[0m ) \u001b[38;5;241m-\u001b[39m\u001b[38;5;241m>\u001b[39m DataFrame \u001b[38;5;241m|\u001b[39m Iterator[DataFrame]:\n\u001b[1;32m-> 2738\u001b[0m     cursor \u001b[38;5;241m=\u001b[39m \u001b[38;5;28mself\u001b[39m\u001b[38;5;241m.\u001b[39mexecute(sql, params)\n\u001b[0;32m   2739\u001b[0m     columns \u001b[38;5;241m=\u001b[39m [col_desc[\u001b[38;5;241m0\u001b[39m] \u001b[38;5;28;01mfor\u001b[39;00m col_desc \u001b[38;5;129;01min\u001b[39;00m cursor\u001b[38;5;241m.\u001b[39mdescription]\n\u001b[0;32m   2741\u001b[0m     \u001b[38;5;28;01mif\u001b[39;00m chunksize \u001b[38;5;129;01mis\u001b[39;00m \u001b[38;5;129;01mnot\u001b[39;00m \u001b[38;5;28;01mNone\u001b[39;00m:\n",
      "File \u001b[1;32m~\\anaconda3\\Lib\\site-packages\\pandas\\io\\sql.py:2686\u001b[0m, in \u001b[0;36mSQLiteDatabase.execute\u001b[1;34m(self, sql, params)\u001b[0m\n\u001b[0;32m   2683\u001b[0m     \u001b[38;5;28;01mraise\u001b[39;00m ex \u001b[38;5;28;01mfrom\u001b[39;00m \u001b[38;5;21;01minner_exc\u001b[39;00m\n\u001b[0;32m   2685\u001b[0m ex \u001b[38;5;241m=\u001b[39m DatabaseError(\u001b[38;5;124mf\u001b[39m\u001b[38;5;124m\"\u001b[39m\u001b[38;5;124mExecution failed on sql \u001b[39m\u001b[38;5;124m'\u001b[39m\u001b[38;5;132;01m{\u001b[39;00msql\u001b[38;5;132;01m}\u001b[39;00m\u001b[38;5;124m'\u001b[39m\u001b[38;5;124m: \u001b[39m\u001b[38;5;132;01m{\u001b[39;00mexc\u001b[38;5;132;01m}\u001b[39;00m\u001b[38;5;124m\"\u001b[39m)\n\u001b[1;32m-> 2686\u001b[0m \u001b[38;5;28;01mraise\u001b[39;00m ex \u001b[38;5;28;01mfrom\u001b[39;00m \u001b[38;5;21;01mexc\u001b[39;00m\n",
      "\u001b[1;31mDatabaseError\u001b[0m: Execution failed on sql 'SELECT * FROM Customers;': no such table: Customers"
     ]
    }
   ],
   "source": [
    "# Récupération du contenu de Customers avec une requête SQL\n",
    "customers = pandas.read_sql_query(\"SELECT * FROM Customers;\", conn)\n",
    "print(customers)"
   ]
  },
  {
   "cell_type": "code",
   "execution_count": 10,
   "id": "5b2d3dd4-972d-4267-9a01-28eced5a13d5",
   "metadata": {},
   "outputs": [
    {
     "ename": "DatabaseError",
     "evalue": "Execution failed on sql 'SELECT c.customerName\n    FROM Customers c LEFT JOIN Orders o ON c.customerNumber = o.customerNumber\n    WHERE o.customerNumber IS NULL;': no such table: Customers",
     "output_type": "error",
     "traceback": [
      "\u001b[1;31m---------------------------------------------------------------------------\u001b[0m",
      "\u001b[1;31mOperationalError\u001b[0m                          Traceback (most recent call last)",
      "File \u001b[1;32m~\\anaconda3\\Lib\\site-packages\\pandas\\io\\sql.py:2674\u001b[0m, in \u001b[0;36mSQLiteDatabase.execute\u001b[1;34m(self, sql, params)\u001b[0m\n\u001b[0;32m   2673\u001b[0m \u001b[38;5;28;01mtry\u001b[39;00m:\n\u001b[1;32m-> 2674\u001b[0m     cur\u001b[38;5;241m.\u001b[39mexecute(sql, \u001b[38;5;241m*\u001b[39margs)\n\u001b[0;32m   2675\u001b[0m     \u001b[38;5;28;01mreturn\u001b[39;00m cur\n",
      "\u001b[1;31mOperationalError\u001b[0m: no such table: Customers",
      "\nThe above exception was the direct cause of the following exception:\n",
      "\u001b[1;31mDatabaseError\u001b[0m                             Traceback (most recent call last)",
      "Cell \u001b[1;32mIn[10], line 2\u001b[0m\n\u001b[0;32m      1\u001b[0m \u001b[38;5;66;03m#1\u001b[39;00m\n\u001b[1;32m----> 2\u001b[0m clientsnocommande \u001b[38;5;241m=\u001b[39m pandas\u001b[38;5;241m.\u001b[39mread_sql_query(\n\u001b[0;32m      3\u001b[0m \u001b[38;5;250m   \u001b[39m\n\u001b[0;32m      4\u001b[0m \u001b[38;5;250m    \u001b[39m\u001b[38;5;124;03m\"\"\"SELECT c.customerName\u001b[39;00m\n\u001b[0;32m      5\u001b[0m \u001b[38;5;124;03m    FROM Customers c LEFT JOIN Orders o ON c.customerNumber = o.customerNumber\u001b[39;00m\n\u001b[0;32m      6\u001b[0m \u001b[38;5;124;03m    WHERE o.customerNumber IS NULL;\"\"\"\u001b[39;00m, conn)\n\u001b[0;32m      7\u001b[0m \u001b[38;5;28mprint\u001b[39m(clientsnocommande)\n",
      "File \u001b[1;32m~\\anaconda3\\Lib\\site-packages\\pandas\\io\\sql.py:526\u001b[0m, in \u001b[0;36mread_sql_query\u001b[1;34m(sql, con, index_col, coerce_float, params, parse_dates, chunksize, dtype, dtype_backend)\u001b[0m\n\u001b[0;32m    523\u001b[0m \u001b[38;5;28;01massert\u001b[39;00m dtype_backend \u001b[38;5;129;01mis\u001b[39;00m \u001b[38;5;129;01mnot\u001b[39;00m lib\u001b[38;5;241m.\u001b[39mno_default\n\u001b[0;32m    525\u001b[0m \u001b[38;5;28;01mwith\u001b[39;00m pandasSQL_builder(con) \u001b[38;5;28;01mas\u001b[39;00m pandas_sql:\n\u001b[1;32m--> 526\u001b[0m     \u001b[38;5;28;01mreturn\u001b[39;00m pandas_sql\u001b[38;5;241m.\u001b[39mread_query(\n\u001b[0;32m    527\u001b[0m         sql,\n\u001b[0;32m    528\u001b[0m         index_col\u001b[38;5;241m=\u001b[39mindex_col,\n\u001b[0;32m    529\u001b[0m         params\u001b[38;5;241m=\u001b[39mparams,\n\u001b[0;32m    530\u001b[0m         coerce_float\u001b[38;5;241m=\u001b[39mcoerce_float,\n\u001b[0;32m    531\u001b[0m         parse_dates\u001b[38;5;241m=\u001b[39mparse_dates,\n\u001b[0;32m    532\u001b[0m         chunksize\u001b[38;5;241m=\u001b[39mchunksize,\n\u001b[0;32m    533\u001b[0m         dtype\u001b[38;5;241m=\u001b[39mdtype,\n\u001b[0;32m    534\u001b[0m         dtype_backend\u001b[38;5;241m=\u001b[39mdtype_backend,\n\u001b[0;32m    535\u001b[0m     )\n",
      "File \u001b[1;32m~\\anaconda3\\Lib\\site-packages\\pandas\\io\\sql.py:2738\u001b[0m, in \u001b[0;36mSQLiteDatabase.read_query\u001b[1;34m(self, sql, index_col, coerce_float, parse_dates, params, chunksize, dtype, dtype_backend)\u001b[0m\n\u001b[0;32m   2727\u001b[0m \u001b[38;5;28;01mdef\u001b[39;00m \u001b[38;5;21mread_query\u001b[39m(\n\u001b[0;32m   2728\u001b[0m     \u001b[38;5;28mself\u001b[39m,\n\u001b[0;32m   2729\u001b[0m     sql,\n\u001b[1;32m   (...)\u001b[0m\n\u001b[0;32m   2736\u001b[0m     dtype_backend: DtypeBackend \u001b[38;5;241m|\u001b[39m Literal[\u001b[38;5;124m\"\u001b[39m\u001b[38;5;124mnumpy\u001b[39m\u001b[38;5;124m\"\u001b[39m] \u001b[38;5;241m=\u001b[39m \u001b[38;5;124m\"\u001b[39m\u001b[38;5;124mnumpy\u001b[39m\u001b[38;5;124m\"\u001b[39m,\n\u001b[0;32m   2737\u001b[0m ) \u001b[38;5;241m-\u001b[39m\u001b[38;5;241m>\u001b[39m DataFrame \u001b[38;5;241m|\u001b[39m Iterator[DataFrame]:\n\u001b[1;32m-> 2738\u001b[0m     cursor \u001b[38;5;241m=\u001b[39m \u001b[38;5;28mself\u001b[39m\u001b[38;5;241m.\u001b[39mexecute(sql, params)\n\u001b[0;32m   2739\u001b[0m     columns \u001b[38;5;241m=\u001b[39m [col_desc[\u001b[38;5;241m0\u001b[39m] \u001b[38;5;28;01mfor\u001b[39;00m col_desc \u001b[38;5;129;01min\u001b[39;00m cursor\u001b[38;5;241m.\u001b[39mdescription]\n\u001b[0;32m   2741\u001b[0m     \u001b[38;5;28;01mif\u001b[39;00m chunksize \u001b[38;5;129;01mis\u001b[39;00m \u001b[38;5;129;01mnot\u001b[39;00m \u001b[38;5;28;01mNone\u001b[39;00m:\n",
      "File \u001b[1;32m~\\anaconda3\\Lib\\site-packages\\pandas\\io\\sql.py:2686\u001b[0m, in \u001b[0;36mSQLiteDatabase.execute\u001b[1;34m(self, sql, params)\u001b[0m\n\u001b[0;32m   2683\u001b[0m     \u001b[38;5;28;01mraise\u001b[39;00m ex \u001b[38;5;28;01mfrom\u001b[39;00m \u001b[38;5;21;01minner_exc\u001b[39;00m\n\u001b[0;32m   2685\u001b[0m ex \u001b[38;5;241m=\u001b[39m DatabaseError(\u001b[38;5;124mf\u001b[39m\u001b[38;5;124m\"\u001b[39m\u001b[38;5;124mExecution failed on sql \u001b[39m\u001b[38;5;124m'\u001b[39m\u001b[38;5;132;01m{\u001b[39;00msql\u001b[38;5;132;01m}\u001b[39;00m\u001b[38;5;124m'\u001b[39m\u001b[38;5;124m: \u001b[39m\u001b[38;5;132;01m{\u001b[39;00mexc\u001b[38;5;132;01m}\u001b[39;00m\u001b[38;5;124m\"\u001b[39m)\n\u001b[1;32m-> 2686\u001b[0m \u001b[38;5;28;01mraise\u001b[39;00m ex \u001b[38;5;28;01mfrom\u001b[39;00m \u001b[38;5;21;01mexc\u001b[39;00m\n",
      "\u001b[1;31mDatabaseError\u001b[0m: Execution failed on sql 'SELECT c.customerName\n    FROM Customers c LEFT JOIN Orders o ON c.customerNumber = o.customerNumber\n    WHERE o.customerNumber IS NULL;': no such table: Customers"
     ]
    }
   ],
   "source": [
    "#1\n",
    "clientsnocommande = pandas.read_sql_query(\n",
    "   \n",
    "    \"\"\"SELECT c.customerName\n",
    "    FROM Customers c LEFT JOIN Orders o ON c.customerNumber = o.customerNumber\n",
    "    WHERE o.customerNumber IS NULL;\"\"\", conn)\n",
    "print(clientsnocommande)"
   ]
  },
  {
   "cell_type": "code",
   "execution_count": null,
   "id": "4cbc939c-b51f-406b-a5ce-9469e7f53645",
   "metadata": {},
   "outputs": [],
   "source": [
    "#2\n",
    "\n",
    "\n",
    "\n",
    "a = pandas.read_sql_query(\"\"\"SELECT e.lastName, e.firstName,\n",
    "                          COUNT(c.customerNumber) AS nombre_clients,\n",
    "                          COUNT(o.orderNumber) AS nombre_commandes,\n",
    "                          SUM(p.amount) AS montant_total_commandes\n",
    "                         \n",
    "                          FROM Employees e left join  Customers c ON e.employeeNumber = c.salesRepEmployeeNumber\n",
    "                          left join Orders o ON c.customerNumber = o.customerNumber\n",
    "                          left join Payments p ON c.customerNumber = p.customerNumber\n",
    "                         \n",
    "                          GROUP BY e.lastName, e.firstName\"\"\", conn)\n",
    "print(a)"
   ]
  },
  {
   "cell_type": "code",
   "execution_count": null,
   "id": "f38198fc-b06d-4205-a920-6539e93095a0",
   "metadata": {},
   "outputs": [],
   "source": [
    "b = pandas.read_sql_query(\"\"\"SELECT b.officeCode,\n",
    "                          COUNT(c.customerNumber) AS nombre_clients,\n",
    "                          COUNT(o.orderNumber) AS nombre_commandes,\n",
    "                          SUM(p.amount) AS montant_total_commandes,\n",
    "                          COUNT(DISTINCT\n",
    "                          CASE\n",
    "                              WHEN c.country != b.country then 1\n",
    "                              ELSE NULL\n",
    "                              END) AS CustomersFromDifferentCountry\n",
    "                         \n",
    "                          FROM Offices b\n",
    "                          left join Employees e on b.officeCode = e.officeCode\n",
    "                          left join  Customers c ON e.employeeNumber = c.salesRepEmployeeNumber\n",
    "                          left join Orders o ON c.customerNumber = o.customerNumber\n",
    "                          left join Payments p ON c.customerNumber = p.customerNumber\n",
    "                         \n",
    "                          GROUP BY b.officeCode\"\"\", conn)\n",
    "print(b)"
   ]
  },
  {
   "cell_type": "code",
   "execution_count": null,
   "id": "67898619-f952-435d-b8ac-2ddfe85ff0fc",
   "metadata": {},
   "outputs": [],
   "source": [
    "c = pandas.read_sql_query(\"\"\"SELECT productName,\n",
    "                          COUNT(OD.orderNumber) as Nombre_Commande,\n",
    "                          COUNT(OD.quantityOrdered) as Qte_commande,\n",
    "                          COUNT(distinct c.customerNumber)\n",
    "                          FROM Products P\n",
    "                          left join OrderDetails OD ON P.productCode = OD.productCode\n",
    "                          left join Orders O ON OD.orderNumber = O.orderNumber\n",
    "                          left join Customers c on O.customerNumber = c.customerNumber\n",
    "                          Group by productName;\n",
    "                          \"\"\", conn)\n",
    "print(c)"
   ]
  },
  {
   "cell_type": "code",
   "execution_count": null,
   "id": "53bcf635-64f1-4f32-8f04-28e452c2a7c4",
   "metadata": {},
   "outputs": [],
   "source": [
    "q5= pandas.read_sql_query(\"\"\"SELECT c.country,\n",
    "                          Count(o.orderNumber), od.quantityOrdered*od.priceEach, sum(p.amount)\n",
    "                          FROM  Customers c\n",
    "                          left join Orders o ON c.customerNumber = o.customerNumber\n",
    "                          left join OrderDetails OD on o.orderNumber = OD.orderNumber\n",
    "                          left join Payments p on c.customerNumber = p.customerNumber\n",
    "                          group by country;\"\"\", conn)\n",
    "print(q5)"
   ]
  },
  {
   "cell_type": "code",
   "execution_count": null,
   "id": "b0ef74f7-2ce3-48d8-a9c9-d85220721eb1",
   "metadata": {},
   "outputs": [],
   "source": [
    "q6= pandas.read_sql_query(\"\"\"SELECT p.productLine, c.country,\n",
    "                          count(o.orderNumber) as nombre_commande\n",
    "                          FROM Orders o\n",
    "                          JOIN OrderDetails od ON o.orderNumber = od.orderNumber\n",
    "                          JOIN Products p ON od.productCode = p.productCode\n",
    "                          JOIN Customers c ON o.customerNumber = c.customerNumber\n",
    "                          GROUP BY p.productLine, c.country\n",
    "                          ORDER BY p.productLine, c.country;\"\"\",conn)\n",
    "print(q6)"
   ]
  },
  {
   "cell_type": "code",
   "execution_count": null,
   "id": "11a6bc9b-a217-4f8b-9db6-fd535bfa477e",
   "metadata": {},
   "outputs": [],
   "source": [
    "q7= pandas.read_sql_query(\"\"\"SELECT p.productLine,\n",
    "                          c.country,\n",
    "                          sum(pay.amount) as montant_total\n",
    "                          FROM Orders o\n",
    "                          JOIN OrderDetails od ON o.orderNumber = od.orderNumber\n",
    "                          JOIN Products p ON od.productCode = p.productCode\n",
    "                          JOIN Customers c ON o.customerNumber = c.customerNumber\n",
    "                          JOIN Payments pay ON c.customerNumber = pay.customerNumber\n",
    "                          GROUP BY p.productLine, c.country\n",
    "                          ORDER BY p.productLine, c.country;\"\"\",conn)\n",
    "print(q7)"
   ]
  },
  {
   "cell_type": "code",
   "execution_count": null,
   "id": "97e7524e-5982-4dce-ae18-7d23e838ba6e",
   "metadata": {},
   "outputs": [],
   "source": [
    "q8= pandas.read_sql_query(\"\"\"SELECT p.productCode,\n",
    "                          p.productName,\n",
    "                          AVG(od.priceEach - p.buyPrice) AS avg_margin\n",
    "                          FROM OrderDetails od\n",
    "                          JOIN Products p ON od.productCode = p.productCode\n",
    "                          GROUP BY p.productCode, p.productName\n",
    "                          ORDER BY avg_margin DESC\n",
    "                          LIMIT 10;\"\"\",conn)\n",
    "print(q8)"
   ]
  },
  {
   "cell_type": "code",
   "execution_count": null,
   "id": "dfc167cc-9a74-43b9-b016-1978e55efeb9",
   "metadata": {},
   "outputs": [],
   "source": [
    "q9= pandas.read_sql_query(\"\"\"SELECT p.productCode,\n",
    "                          p.productName,\n",
    "                          c.customerNumber,\n",
    "                          c.customerName,\n",
    "                          od.priceEach,\n",
    "                          p.buyPrice\n",
    "                          FROM OrderDetails od\n",
    "                          JOIN Products p ON od.productCode = p.productCode\n",
    "                          JOIN Orders o ON od.orderNumber = o.orderNumber\n",
    "                          JOIN Customers c ON o.customerNumber = c.customerNumber\n",
    "                          WHERE od.priceEach < p.buyPrice\n",
    "                          ORDER BY p.productCode, c.customerNumber;\"\"\",conn)\n",
    "print(q9)\n"
   ]
  },
  {
   "cell_type": "code",
   "execution_count": null,
   "id": "bd82ad34-6045-40c0-a4e4-1532671f92a6",
   "metadata": {},
   "outputs": [],
   "source": [
    "q10= pandas.read_sql_query(\"\"\"SELECT c.customerNumber,\n",
    "                           c.customerName,\n",
    "                           SUM(pay.amount) AS total_paid,\n",
    "                           SUM(od.quantityOrdered * od.priceEach) AS total_ordered_amount\n",
    "                           FROM Customers c\n",
    "                           JOIN Payments pay ON c.customerNumber = pay.customerNumber\n",
    "                           JOIN Orders o ON c.customerNumber = o.customerNumber\n",
    "                           JOIN OrderDetails od ON o.orderNumber = od.orderNumber\n",
    "                           GROUP BY c.customerNumber, c.customerName\n",
    "                           HAVING SUM(pay.amount) > SUM(od.quantityOrdered * od.priceEach)\n",
    "                           ORDER BY total_paid - total_ordered_amount DESC;\"\"\",conn)\n",
    "print(q10)"
   ]
  },
  {
   "cell_type": "code",
   "execution_count": null,
   "id": "c9d1b97d-6197-4c3d-b9c4-fb553a778ac8",
   "metadata": {},
   "outputs": [],
   "source": [
    "# Fermeture de la connexion : IMPORTANT à faire dans un cadre professionnel\n",
    "conn.close()"
   ]
  }
 ],
 "metadata": {
  "kernelspec": {
   "display_name": "Python 3 (ipykernel)",
   "language": "python",
   "name": "python3"
  },
  "language_info": {
   "codemirror_mode": {
    "name": "ipython",
    "version": 3
   },
   "file_extension": ".py",
   "mimetype": "text/x-python",
   "name": "python",
   "nbconvert_exporter": "python",
   "pygments_lexer": "ipython3",
   "version": "3.12.7"
  }
 },
 "nbformat": 4,
 "nbformat_minor": 5
}
