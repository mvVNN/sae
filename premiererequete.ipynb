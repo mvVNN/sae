{
 "cells": [
  {
   "cell_type": "code",
   "execution_count": 2,
   "id": "102922e1-c22f-41f5-b5e7-6f3811e304f7",
   "metadata": {},
   "outputs": [],
   "source": [
    "# Importation des modules utilisés\n",
    "import sqlite3\n",
    "import pandas"
   ]
  },
  {
   "cell_type": "code",
   "execution_count": 3,
   "id": "811d64a0-4b4c-4489-ad54-16af4cdef7f9",
   "metadata": {},
   "outputs": [],
   "source": [
    "# Création de la connexion\n",
    "conn = sqlite3.connect(\"ClassicModel.sqlite\")"
   ]
  },
  {
   "cell_type": "code",
   "execution_count": 26,
   "id": "4b0ef329-e56f-45e0-a7aa-e37d32cc9ece",
   "metadata": {},
   "outputs": [],
   "source": [
    "# Importation des modules utilisés\n",
    "import sqlite3\n",
    "import pandas\n",
    "import pymongo\n",
    "\n",
    "client = pymongo.MongoClient()\n",
    "db = client.SAE\n",
    "\n",
    "# Création de la connexion\n",
    "conn = sqlite3.connect(\"ClassicModel.sqlite\")\n",
    "\n",
    "\n",
    "\n",
    "# Fermeture de la connexion : IMPORTANT à faire dans un cadre professionnel\n",
    "#conn.close()\n",
    "\n"
   ]
  },
  {
   "cell_type": "code",
   "execution_count": 27,
   "id": "e264f22a",
   "metadata": {},
   "outputs": [
    {
     "name": "stdout",
     "output_type": "stream",
     "text": [
      "Tables existantes :\n",
      "           name\n",
      "0     Customers\n",
      "1     Employees\n",
      "2       Offices\n",
      "3  OrderDetails\n",
      "4        Orders\n",
      "5      Payments\n",
      "6      Products\n"
     ]
    }
   ],
   "source": [
    "import sqlite3\n",
    "import pandas as pd\n",
    "\n",
    "# Connexion à la base de données\n",
    "conn = sqlite3.connect(\"ClassicModel.sqlite\")\n",
    "\n",
    "# Afficher toutes les tables existantes\n",
    "tables = pd.read_sql_query(\"SELECT name FROM sqlite_master WHERE type='table';\", conn)\n",
    "print(\"Tables existantes :\")\n",
    "print(tables)\n"
   ]
  },
  {
   "cell_type": "code",
   "execution_count": 28,
   "id": "5b2d3dd4-972d-4267-9a01-28eced5a13d5",
   "metadata": {},
   "outputs": [
    {
     "name": "stdout",
     "output_type": "stream",
     "text": [
      "           name\n",
      "0     Customers\n",
      "1     Employees\n",
      "2       Offices\n",
      "3  OrderDetails\n",
      "4        Orders\n",
      "5      Payments\n",
      "6      Products\n"
     ]
    }
   ],
   "source": [
    "import sqlite3\n",
    "import pandas as pd\n",
    "\n",
    "# Chemin vers votre base de données SQLite\n",
    "conn = sqlite3.connect(\"ClassicModel.sqlite\")\n",
    "\n",
    "# Test de connexion et affichage des tables existantes\n",
    "tables = pd.read_sql_query(\"SELECT name FROM sqlite_master WHERE type='table';\", conn)\n",
    "print(tables)\n"
   ]
  },
  {
   "cell_type": "code",
   "execution_count": 29,
   "id": "4cbc939c-b51f-406b-a5ce-9469e7f53645",
   "metadata": {},
   "outputs": [
    {
     "name": "stdout",
     "output_type": "stream",
     "text": [
      "     lastName firstName  nombre_clients  nombre_commandes  \\\n",
      "0      Bondur    Gerard               0                 0   \n",
      "1      Bondur      Loui              62                62   \n",
      "2        Bott     Larry              59                59   \n",
      "3         Bow   Anthony               0                 0   \n",
      "4    Castillo    Pamela              90                90   \n",
      "5    Firrelli      Jeff               0                 0   \n",
      "6    Firrelli     Julie              34                34   \n",
      "7      Fixter      Andy              63                63   \n",
      "8      Gerard    Martin              31                30   \n",
      "9   Hernandez    Gerard             382               382   \n",
      "10   Jennings    Leslie             211               211   \n",
      "11      Jones     Barry              68                68   \n",
      "12       Kato   Yoshimi               0                 0   \n",
      "13       King       Tom               0                 0   \n",
      "14      Marsh     Peter              60                60   \n",
      "15     Murphy     Diane               0                 0   \n",
      "16      Nishi      Mami              47                47   \n",
      "17  Patterson      Mary               0                 0   \n",
      "18  Patterson     Steve              45                45   \n",
      "19  Patterson   William               0                 0   \n",
      "20   Thompson    Leslie              32                32   \n",
      "21      Tseng  Foon Yue              49                48   \n",
      "22     Vanauf    George              58                58   \n",
      "\n",
      "    montant_total_commandes  \n",
      "0                       NaN  \n",
      "1                2093279.51  \n",
      "2                2188718.80  \n",
      "3                       NaN  \n",
      "4                2580550.55  \n",
      "5                       NaN  \n",
      "6                1035043.99  \n",
      "7                2352253.84  \n",
      "8                1014439.14  \n",
      "9               21850743.39  \n",
      "10              12674066.13  \n",
      "11               2357369.87  \n",
      "12                      NaN  \n",
      "13                      NaN  \n",
      "14               2119701.72  \n",
      "15                      NaN  \n",
      "16               1815463.17  \n",
      "17                      NaN  \n",
      "18               1545990.08  \n",
      "19                      NaN  \n",
      "20                943442.48  \n",
      "21               1635226.60  \n",
      "22               1870933.55  \n"
     ]
    }
   ],
   "source": [
    "#2\n",
    "a = pandas.read_sql_query(\"\"\"SELECT e.lastName, e.firstName,\n",
    "                          COUNT(c.customerNumber) AS nombre_clients,\n",
    "                          COUNT(o.orderNumber) AS nombre_commandes,\n",
    "                          SUM(p.amount) AS montant_total_commandes\n",
    "                         \n",
    "                          FROM Employees e left join  Customers c ON e.employeeNumber = c.salesRepEmployeeNumber\n",
    "                          left join Orders o ON c.customerNumber = o.customerNumber\n",
    "                          left join Payments p ON c.customerNumber = p.customerNumber\n",
    "                         \n",
    "                          GROUP BY e.lastName, e.firstName\"\"\", conn)\n",
    "print(a)"
   ]
  },
  {
   "cell_type": "code",
   "execution_count": 31,
   "id": "f38198fc-b06d-4205-a920-6539e93095a0",
   "metadata": {},
   "outputs": [
    {
     "name": "stdout",
     "output_type": "stream",
     "text": [
      "  officeCode  nombre_clients  nombre_commandes  montant_total_commandes  \\\n",
      "0        1.0             243               243              13617508.61   \n",
      "1        2.0              79                79               2581034.07   \n",
      "2        3.0             107               106               3506160.15   \n",
      "3        4.0             565               564              27539012.59   \n",
      "4        5.0              47                47               1815463.17   \n",
      "5        6.0             123               123               4471955.56   \n",
      "6        7.0             127               127               4546088.67   \n",
      "\n",
      "   CustomersFromDifferentCountry  \n",
      "0                              0  \n",
      "1                              0  \n",
      "2                              1  \n",
      "3                              1  \n",
      "4                              1  \n",
      "5                              1  \n",
      "6                              1  \n"
     ]
    }
   ],
   "source": [
    "b = pandas.read_sql_query(\"\"\"SELECT b.officeCode,\n",
    "                          COUNT(c.customerNumber) AS nombre_clients,\n",
    "                          COUNT(o.orderNumber) AS nombre_commandes,\n",
    "                          SUM(p.amount) AS montant_total_commandes,\n",
    "                          COUNT(DISTINCT\n",
    "                          CASE\n",
    "                              WHEN c.country != b.country then 1\n",
    "                              ELSE NULL\n",
    "                              END) AS CustomersFromDifferentCountry\n",
    "                         \n",
    "                          FROM Offices b\n",
    "                          left join Employees e on b.officeCode = e.officeCode\n",
    "                          left join  Customers c ON e.employeeNumber = c.salesRepEmployeeNumber\n",
    "                          left join Orders o ON c.customerNumber = o.customerNumber\n",
    "                          left join Payments p ON c.customerNumber = p.customerNumber\n",
    "                         \n",
    "                          GROUP BY b.officeCode\"\"\", conn)\n",
    "print(b)"
   ]
  },
  {
   "cell_type": "code",
   "execution_count": 32,
   "id": "67898619-f952-435d-b8ac-2ddfe85ff0fc",
   "metadata": {},
   "outputs": [
    {
     "name": "stdout",
     "output_type": "stream",
     "text": [
      "                             productName  Nombre_Commande  Qte_commande  \\\n",
      "0    18th Century Vintage Horse Carriage               28            28   \n",
      "1                  18th century schooner               27            27   \n",
      "2                 1900s Vintage Bi-Plane               28            28   \n",
      "3                1900s Vintage Tri-Plane               28            28   \n",
      "4                      1903 Ford Model A               27            27   \n",
      "..                                   ...              ...           ...   \n",
      "105                        The Mayflower               27            27   \n",
      "106                       The Queen Mary               27            27   \n",
      "107                The Schooner Bluenose               27            27   \n",
      "108                          The Titanic               27            27   \n",
      "109            The USS Constitution Ship               27            27   \n",
      "\n",
      "     COUNT(distinct c.customerNumber)  \n",
      "0                                  26  \n",
      "1                                  24  \n",
      "2                                  26  \n",
      "3                                  22  \n",
      "4                                  21  \n",
      "..                                ...  \n",
      "105                                22  \n",
      "106                                24  \n",
      "107                                23  \n",
      "108                                22  \n",
      "109                                23  \n",
      "\n",
      "[110 rows x 4 columns]\n"
     ]
    }
   ],
   "source": [
    "c = pandas.read_sql_query(\"\"\"SELECT productName,\n",
    "                          COUNT(OD.orderNumber) as Nombre_Commande,\n",
    "                          COUNT(OD.quantityOrdered) as Qte_commande,\n",
    "                          COUNT(distinct c.customerNumber)\n",
    "                          FROM Products P\n",
    "                          left join OrderDetails OD ON P.productCode = OD.productCode\n",
    "                          left join Orders O ON OD.orderNumber = O.orderNumber\n",
    "                          left join Customers c on O.customerNumber = c.customerNumber\n",
    "                          Group by productName;\n",
    "                          \"\"\", conn)\n",
    "print(c)"
   ]
  },
  {
   "cell_type": "code",
   "execution_count": 33,
   "id": "53bcf635-64f1-4f32-8f04-28e452c2a7c4",
   "metadata": {},
   "outputs": [
    {
     "name": "stdout",
     "output_type": "stream",
     "text": [
      "         country  Count(o.orderNumber)  od.quantityOrdered*od.priceEach  \\\n",
      "0      Australia                   633                          2793.86   \n",
      "1        Austria                   165                          5004.80   \n",
      "2        Belgium                    82                          4417.38   \n",
      "3         Canada                   140                          9064.89   \n",
      "4        Denmark                   198                          7208.00   \n",
      "5        Finland                   276                          4526.08   \n",
      "6         France                   899                          3073.72   \n",
      "7        Germany                   154                          3782.00   \n",
      "8      Hong Kong                    16                          4219.65   \n",
      "9        Ireland                    32                          7181.44   \n",
      "10        Israel                     0                              NaN   \n",
      "11         Italy                   290                          8014.82   \n",
      "12         Japan                   136                          3009.09   \n",
      "13   Netherlands                     0                              NaN   \n",
      "14   New Zealand                   486                          2476.80   \n",
      "15        Norway                   234                          5404.62   \n",
      "16   Philippines                    78                          5265.15   \n",
      "17        Poland                     0                              NaN   \n",
      "18      Portugal                     0                              NaN   \n",
      "19        Russia                     0                              NaN   \n",
      "20     Singapore                   280                          6034.38   \n",
      "21  South Africa                     0                              NaN   \n",
      "22         Spain                  3588                          5958.50   \n",
      "23        Sweden                   152                          7209.11   \n",
      "24   Switzerland                    62                              NaN   \n",
      "25            UK                   365                          5433.08   \n",
      "26           USA                  3939                          2856.00   \n",
      "\n",
      "    sum(p.amount)  \n",
      "0    2.482541e+07  \n",
      "1    4.090982e+06  \n",
      "2    1.931535e+06  \n",
      "3    4.487022e+06  \n",
      "4    7.001114e+06  \n",
      "5    1.009620e+07  \n",
      "6    3.141444e+07  \n",
      "7    4.971661e+06  \n",
      "8    7.805498e+05  \n",
      "9    9.241029e+05  \n",
      "10            NaN  \n",
      "11   1.324310e+07  \n",
      "12   4.837611e+06  \n",
      "13            NaN  \n",
      "14   1.710337e+07  \n",
      "15   8.870124e+06  \n",
      "16   2.444409e+06  \n",
      "17            NaN  \n",
      "18            NaN  \n",
      "19            NaN  \n",
      "20   1.150336e+07  \n",
      "21            NaN  \n",
      "22   2.123241e+08  \n",
      "23   6.541197e+06  \n",
      "24   3.649120e+06  \n",
      "25   1.506256e+07  \n",
      "26   1.957451e+08  \n"
     ]
    }
   ],
   "source": [
    "q5= pandas.read_sql_query(\"\"\"SELECT c.country,\n",
    "                          Count(o.orderNumber), od.quantityOrdered*od.priceEach, sum(p.amount)\n",
    "                          FROM  Customers c\n",
    "                          left join Orders o ON c.customerNumber = o.customerNumber\n",
    "                          left join OrderDetails OD on o.orderNumber = OD.orderNumber\n",
    "                          left join Payments p on c.customerNumber = p.customerNumber\n",
    "                          group by country;\"\"\", conn)\n",
    "print(q5)"
   ]
  },
  {
   "cell_type": "code",
   "execution_count": 34,
   "id": "b0ef74f7-2ce3-48d8-a9c9-d85220721eb1",
   "metadata": {},
   "outputs": [
    {
     "name": "stdout",
     "output_type": "stream",
     "text": [
      "      productLine    country  nombre_commande\n",
      "0    Classic Cars  Australia               53\n",
      "1    Classic Cars    Austria               25\n",
      "2    Classic Cars    Belgium                4\n",
      "3    Classic Cars     Canada               14\n",
      "4    Classic Cars    Denmark               34\n",
      "..            ...        ...              ...\n",
      "121  Vintage Cars  Singapore               14\n",
      "122  Vintage Cars      Spain               74\n",
      "123  Vintage Cars     Sweden               12\n",
      "124  Vintage Cars         UK               39\n",
      "125  Vintage Cars        USA              224\n",
      "\n",
      "[126 rows x 3 columns]\n"
     ]
    }
   ],
   "source": [
    "q6= pandas.read_sql_query(\"\"\"SELECT p.productLine, c.country,\n",
    "                          count(o.orderNumber) as nombre_commande\n",
    "                          FROM Orders o\n",
    "                          JOIN OrderDetails od ON o.orderNumber = od.orderNumber\n",
    "                          JOIN Products p ON od.productCode = p.productCode\n",
    "                          JOIN Customers c ON o.customerNumber = c.customerNumber\n",
    "                          GROUP BY p.productLine, c.country\n",
    "                          ORDER BY p.productLine, c.country;\"\"\",conn)\n",
    "print(q6)"
   ]
  },
  {
   "cell_type": "code",
   "execution_count": 35,
   "id": "11a6bc9b-a217-4f8b-9db6-fd535bfa477e",
   "metadata": {},
   "outputs": [
    {
     "name": "stdout",
     "output_type": "stream",
     "text": [
      "      productLine    country  montant_total\n",
      "0    Classic Cars  Australia     7504795.97\n",
      "1    Classic Cars    Austria     1884419.42\n",
      "2    Classic Cars    Belgium      166880.87\n",
      "3    Classic Cars     Canada      774924.01\n",
      "4    Classic Cars    Denmark     3678313.22\n",
      "..            ...        ...            ...\n",
      "121  Vintage Cars  Singapore     1941227.28\n",
      "122  Vintage Cars      Spain    39878490.66\n",
      "123  Vintage Cars     Sweden     1377094.16\n",
      "124  Vintage Cars         UK     4673162.78\n",
      "125  Vintage Cars        USA    47090713.86\n",
      "\n",
      "[126 rows x 3 columns]\n"
     ]
    }
   ],
   "source": [
    "q7= pandas.read_sql_query(\"\"\"SELECT p.productLine,\n",
    "                          c.country,\n",
    "                          sum(pay.amount) as montant_total\n",
    "                          FROM Orders o\n",
    "                          JOIN OrderDetails od ON o.orderNumber = od.orderNumber\n",
    "                          JOIN Products p ON od.productCode = p.productCode\n",
    "                          JOIN Customers c ON o.customerNumber = c.customerNumber\n",
    "                          JOIN Payments pay ON c.customerNumber = pay.customerNumber\n",
    "                          GROUP BY p.productLine, c.country\n",
    "                          ORDER BY p.productLine, c.country;\"\"\",conn)\n",
    "print(q7)"
   ]
  },
  {
   "cell_type": "code",
   "execution_count": 36,
   "id": "97e7524e-5982-4dce-ae18-7d23e838ba6e",
   "metadata": {},
   "outputs": [
    {
     "name": "stdout",
     "output_type": "stream",
     "text": [
      "  productCode                           productName  avg_margin\n",
      "0    S10_1949              1952 Alpine Renault 1300   99.006429\n",
      "1    S10_4698  2003 Harley-Davidson Eagle Drag Bike   95.235000\n",
      "2    S18_3232           1992 Ferrari 360 Spider red   83.334906\n",
      "3    S12_2823                      2002 Suzuki XREO   83.201429\n",
      "4    S18_2795                1928 Mercedes-Benz SSK   82.696786\n",
      "5    S12_1108                     2001 Ferrari Enzo   81.043704\n",
      "6    S12_3891                      1969 Ford Falcon   77.335926\n",
      "7    S18_3685        1948 Porsche Type 356 Roadster   72.636800\n",
      "8    S18_2870          1999 Indy 500 Monte Carlo SS   71.794400\n",
      "9    S18_1749              1917 Grand Touring Sedan   70.432800\n"
     ]
    }
   ],
   "source": [
    "q8= pandas.read_sql_query(\"\"\"SELECT p.productCode,\n",
    "                          p.productName,\n",
    "                          AVG(od.priceEach - p.buyPrice) AS avg_margin\n",
    "                          FROM OrderDetails od\n",
    "                          JOIN Products p ON od.productCode = p.productCode\n",
    "                          GROUP BY p.productCode, p.productName\n",
    "                          ORDER BY avg_margin DESC\n",
    "                          LIMIT 10;\"\"\",conn)\n",
    "print(q8)"
   ]
  },
  {
   "cell_type": "code",
   "execution_count": 37,
   "id": "dfc167cc-9a74-43b9-b016-1978e55efeb9",
   "metadata": {},
   "outputs": [
    {
     "name": "stdout",
     "output_type": "stream",
     "text": [
      "   productCode                            productName  customerNumber  \\\n",
      "0     S10_1678  1969 Harley Davidson Ultimate Chopper             119   \n",
      "1     S10_2016                  1996 Moto Guzzi 1100i             282   \n",
      "2     S10_2016                  1996 Moto Guzzi 1100i             398   \n",
      "3     S10_2016                  1996 Moto Guzzi 1100i             462   \n",
      "4     S10_4698   2003 Harley-Davidson Eagle Drag Bike             398   \n",
      "..         ...                                    ...             ...   \n",
      "74    S24_4048      1992 Porsche Cayenne Turbo Silver             124   \n",
      "75    S24_4258                  1936 Chrysler Airflow             458   \n",
      "76    S32_1374                       1997 BMW F650 ST             131   \n",
      "77    S32_4485              1974 Ducati 350 Mk3 Desmo             124   \n",
      "78    S50_1392       Diamond T620 Semi-Skirted Tanker             124   \n",
      "\n",
      "                    customerName  priceEach  buyPrice  \n",
      "0              La Rochelle Gifts      34.91     48.81  \n",
      "1      Souveniers And Things Co.      51.15     68.99  \n",
      "2        Tokyo Collectables, Ltd      68.92     68.99  \n",
      "3               FunGiftIdeas.com      44.51     68.99  \n",
      "4        Tokyo Collectables, Ltd      76.67     91.02  \n",
      "..                           ...        ...       ...  \n",
      "74  Mini Gifts Distributors Ltd.      50.32     69.78  \n",
      "75    Corrida Auto Replicas, Ltd      50.31     57.46  \n",
      "76             Land of Toys Inc.      63.91     66.92  \n",
      "77  Mini Gifts Distributors Ltd.      48.98     56.13  \n",
      "78  Mini Gifts Distributors Ltd.      56.55     68.29  \n",
      "\n",
      "[79 rows x 6 columns]\n"
     ]
    }
   ],
   "source": [
    "q9= pandas.read_sql_query(\"\"\"SELECT p.productCode,\n",
    "                          p.productName,\n",
    "                          c.customerNumber,\n",
    "                          c.customerName,\n",
    "                          od.priceEach,\n",
    "                          p.buyPrice\n",
    "                          FROM OrderDetails od\n",
    "                          JOIN Products p ON od.productCode = p.productCode\n",
    "                          JOIN Orders o ON od.orderNumber = o.orderNumber\n",
    "                          JOIN Customers c ON o.customerNumber = c.customerNumber\n",
    "                          WHERE od.priceEach < p.buyPrice\n",
    "                          ORDER BY p.productCode, c.customerNumber;\"\"\",conn)\n",
    "print(q9)\n"
   ]
  },
  {
   "cell_type": "code",
   "execution_count": 38,
   "id": "bd82ad34-6045-40c0-a4e4-1532671f92a6",
   "metadata": {},
   "outputs": [
    {
     "name": "stdout",
     "output_type": "stream",
     "text": [
      "    customerNumber                  customerName    total_paid  \\\n",
      "0              141        Euro+ Shopping Channel  2.054002e+08   \n",
      "1              124  Mini Gifts Distributors Ltd.  1.165673e+08   \n",
      "2              114    Australian Collectors, Co.  1.074506e+07   \n",
      "3              151            Muscle Machine Inc  9.491373e+06   \n",
      "4              187                AV Stores, Co.  8.048198e+06   \n",
      "..             ...                           ...           ...   \n",
      "93             473            Frau da Collezione  2.316153e+05   \n",
      "94             381                  Royale Belge  2.675208e+05   \n",
      "95             198       Auto-Moto Classics Inc.  2.118341e+05   \n",
      "96             103             Atelier graphique  1.692597e+05   \n",
      "97             219             Boards & Toys Co.  2.738805e+04   \n",
      "\n",
      "    total_ordered_amount  \n",
      "0            11859823.43  \n",
      "1             6548580.40  \n",
      "2              803981.64  \n",
      "3              790947.76  \n",
      "4              473423.43  \n",
      "..                   ...  \n",
      "93              57903.82  \n",
      "94             133760.40  \n",
      "95              79437.78  \n",
      "96              72539.88  \n",
      "97              18258.70  \n",
      "\n",
      "[98 rows x 4 columns]\n"
     ]
    }
   ],
   "source": [
    "q10= pandas.read_sql_query(\"\"\"SELECT c.customerNumber,\n",
    "                           c.customerName,\n",
    "                           SUM(pay.amount) AS total_paid,\n",
    "                           SUM(od.quantityOrdered * od.priceEach) AS total_ordered_amount\n",
    "                           FROM Customers c\n",
    "                           JOIN Payments pay ON c.customerNumber = pay.customerNumber\n",
    "                           JOIN Orders o ON c.customerNumber = o.customerNumber\n",
    "                           JOIN OrderDetails od ON o.orderNumber = od.orderNumber\n",
    "                           GROUP BY c.customerNumber, c.customerName\n",
    "                           HAVING SUM(pay.amount) > SUM(od.quantityOrdered * od.priceEach)\n",
    "                           ORDER BY total_paid - total_ordered_amount DESC;\"\"\",conn)\n",
    "print(q10)"
   ]
  },
  {
   "cell_type": "code",
   "execution_count": 39,
   "id": "c9d1b97d-6197-4c3d-b9c4-fb553a778ac8",
   "metadata": {},
   "outputs": [],
   "source": [
    "# Fermeture de la connexion : IMPORTANT à faire dans un cadre professionnel\n",
    "conn.close()"
   ]
  },
  {
   "cell_type": "code",
   "execution_count": null,
   "id": "e3f73edf",
   "metadata": {},
   "outputs": [],
   "source": []
  }
 ],
 "metadata": {
  "kernelspec": {
   "display_name": "Python 3 (ipykernel)",
   "language": "python",
   "name": "python3"
  },
  "language_info": {
   "codemirror_mode": {
    "name": "ipython",
    "version": 3
   },
   "file_extension": ".py",
   "mimetype": "text/x-python",
   "name": "python",
   "nbconvert_exporter": "python",
   "pygments_lexer": "ipython3",
   "version": "3.9.13"
  }
 },
 "nbformat": 4,
 "nbformat_minor": 5
}
